{
 "cells": [
  {
   "cell_type": "code",
   "execution_count": 38,
   "metadata": {},
   "outputs": [],
   "source": [
    "import pandas as pd\n",
    "import matplotlib.pyplot as plt\n",
    "import numpy as np"
   ]
  },
  {
   "cell_type": "code",
   "execution_count": 13,
   "metadata": {},
   "outputs": [
    {
     "data": {
      "text/plain": [
       "(28, 28, 1)"
      ]
     },
     "execution_count": 13,
     "metadata": {},
     "output_type": "execute_result"
    }
   ],
   "source": [
    "df=pd.read_csv(\"...//train.csv\")\n",
    "Y=df.label\n",
    "X=df.drop(columns='label')\n",
    "#reshaping image into (height,width,channels)\n",
    "X=X.values.reshape(-1,28,28,1)"
   ]
  },
  {
   "cell_type": "code",
   "execution_count": 71,
   "metadata": {},
   "outputs": [
    {
     "data": {
      "text/plain": [
       "<matplotlib.image.AxesImage at 0x24179fc5ac8>"
      ]
     },
     "execution_count": 71,
     "metadata": {},
     "output_type": "execute_result"
    },
    {
     "data": {
      "image/png": "[encoded data removed]",
      "text/plain": [
       "<matplotlib.figure.Figure at 0x2413f075b70>"
      ]
     },
     "metadata": {},
     "output_type": "display_data"
    }
   ],
   "source": [
    "from keras.utils.np_utils import to_categorical\n",
    "#converting labels into a one-hot encoded vector\n",
    "Y = to_categorical(Y, num_classes = 10)\n",
    "#visualizing images\n",
    "%matplotlib inline\n",
    "plt.imshow(X[0][:,:,0])"
   ]
  },
  {
   "cell_type": "code",
   "execution_count": 26,
   "metadata": {},
   "outputs": [
    {
     "name": "stderr",
     "output_type": "stream",
     "text": [
      "Using TensorFlow backend.\n"
     ]
    }
   ],
   "source": [
    "from keras.models import Sequential\n",
    "from keras.layers import Dense,Conv2D,MaxPool2D,Dropout,Flatten\n",
    "model = Sequential()\n",
    "\n",
    "model.add(Conv2D(filters = 32, kernel_size = (5,5),activation ='relu', input_shape = (28,28,1)))\n",
    "model.add(Conv2D(filters = 32, kernel_size = (5,5),activation ='relu'))\n",
    "model.add(MaxPool2D(pool_size=(2,2)))\n",
    "model.add(Dropout(0.25))\n",
    "\n",
    "\n",
    "model.add(Conv2D(filters = 64, kernel_size = (3,3),activation ='relu'))\n",
    "model.add(Conv2D(filters = 64, kernel_size = (3,3),activation ='relu'))\n",
    "model.add(MaxPool2D(pool_size=(2,2), strides=(2,2)))\n",
    "model.add(Dropout(0.25))\n",
    "\n",
    "\n",
    "model.add(Flatten())\n",
    "model.add(Dense(256, activation = \"relu\"))\n",
    "model.add(Dropout(0.5))\n",
    "model.add(Dense(10, activation = \"softmax\"))"
   ]
  },
  {
   "cell_type": "code",
   "execution_count": 27,
   "metadata": {},
   "outputs": [],
   "source": [
    "model.compile(optimizer = 'adam' , loss = \"categorical_crossentropy\", metrics=[\"accuracy\"])"
   ]
  },
  {
   "cell_type": "code",
   "execution_count": 30,
   "metadata": {},
   "outputs": [],
   "source": [
    "epochs = 40 \n",
    "batchs = 80"
   ]
  },
  {
   "cell_type": "code",
   "execution_count": 34,
   "metadata": {},
   "outputs": [
    {
     "name": "stdout",
     "output_type": "stream",
     "text": [
      "Epoch 1/40\n",
      "42000/42000 [==============================] - 134s 3ms/step - loss: 0.7938 - acc: 0.8385\n",
      "Epoch 2/40\n",
      "42000/42000 [==============================] - 140s 3ms/step - loss: 0.1290 - acc: 0.9611\n",
      "Epoch 3/40\n",
      "42000/42000 [==============================] - 135s 3ms/step - loss: 0.0941 - acc: 0.9714\n",
      "Epoch 4/40\n",
      "42000/42000 [==============================] - 121s 3ms/step - loss: 0.0804 - acc: 0.9758\n",
      "Epoch 5/40\n",
      "42000/42000 [==============================] - 124s 3ms/step - loss: 0.0713 - acc: 0.9790\n",
      "Epoch 6/40\n",
      "42000/42000 [==============================] - 135s 3ms/step - loss: 0.0647 - acc: 0.9807\n",
      "Epoch 7/40\n",
      "42000/42000 [==============================] - 137s 3ms/step - loss: 0.0618 - acc: 0.9814\n",
      "Epoch 8/40\n",
      "42000/42000 [==============================] - 135s 3ms/step - loss: 0.0607 - acc: 0.9820\n",
      "Epoch 9/40\n",
      "42000/42000 [==============================] - 136s 3ms/step - loss: 0.0579 - acc: 0.9834\n",
      "Epoch 10/40\n",
      "42000/42000 [==============================] - 135s 3ms/step - loss: 0.0573 - acc: 0.9825\n",
      "Epoch 11/40\n",
      "42000/42000 [==============================] - 135s 3ms/step - loss: 0.0535 - acc: 0.9844\n",
      "Epoch 12/40\n",
      "42000/42000 [==============================] - 136s 3ms/step - loss: 0.0492 - acc: 0.9852\n",
      "Epoch 13/40\n",
      "42000/42000 [==============================] - 136s 3ms/step - loss: 0.0517 - acc: 0.9846\n",
      "Epoch 14/40\n",
      "42000/42000 [==============================] - 135s 3ms/step - loss: 0.0558 - acc: 0.9846\n",
      "Epoch 15/40\n",
      "42000/42000 [==============================] - 135s 3ms/step - loss: 0.0461 - acc: 0.9863\n",
      "Epoch 16/40\n",
      "42000/42000 [==============================] - 136s 3ms/step - loss: 0.0474 - acc: 0.9863\n",
      "Epoch 17/40\n",
      "42000/42000 [==============================] - 136s 3ms/step - loss: 0.0486 - acc: 0.9856\n",
      "Epoch 18/40\n",
      "42000/42000 [==============================] - 136s 3ms/step - loss: 0.0505 - acc: 0.9857\n",
      "Epoch 19/40\n",
      "42000/42000 [==============================] - 135s 3ms/step - loss: 0.0428 - acc: 0.9878\n",
      "Epoch 20/40\n",
      "42000/42000 [==============================] - 135s 3ms/step - loss: 0.0477 - acc: 0.9859\n",
      "Epoch 21/40\n",
      "42000/42000 [==============================] - 136s 3ms/step - loss: 0.0506 - acc: 0.9854\n",
      "Epoch 22/40\n",
      "42000/42000 [==============================] - 135s 3ms/step - loss: 0.0420 - acc: 0.9880\n",
      "Epoch 23/40\n",
      "42000/42000 [==============================] - 135s 3ms/step - loss: 0.0449 - acc: 0.9873\n",
      "Epoch 24/40\n",
      "42000/42000 [==============================] - 135s 3ms/step - loss: 0.0444 - acc: 0.9872\n",
      "Epoch 25/40\n",
      "42000/42000 [==============================] - 136s 3ms/step - loss: 0.0477 - acc: 0.9861\n",
      "Epoch 26/40\n",
      "42000/42000 [==============================] - 136s 3ms/step - loss: 0.0427 - acc: 0.9875\n",
      "Epoch 27/40\n",
      "42000/42000 [==============================] - 138s 3ms/step - loss: 0.0440 - acc: 0.9878\n",
      "Epoch 28/40\n",
      "42000/42000 [==============================] - 1727s 41ms/step - loss: 0.0415 - acc: 0.9886\n",
      "Epoch 29/40\n",
      "42000/42000 [==============================] - 123s 3ms/step - loss: 0.0466 - acc: 0.9874\n",
      "Epoch 30/40\n",
      "42000/42000 [==============================] - 122s 3ms/step - loss: 0.0470 - acc: 0.9875\n",
      "Epoch 31/40\n",
      "42000/42000 [==============================] - 122s 3ms/step - loss: 0.0411 - acc: 0.9891\n",
      "Epoch 32/40\n",
      "42000/42000 [==============================] - 122s 3ms/step - loss: 0.0449 - acc: 0.9874\n",
      "Epoch 33/40\n",
      "42000/42000 [==============================] - 131s 3ms/step - loss: 0.0430 - acc: 0.9882\n",
      "Epoch 34/40\n",
      "42000/42000 [==============================] - 130s 3ms/step - loss: 0.0433 - acc: 0.9883\n",
      "Epoch 35/40\n",
      "42000/42000 [==============================] - 133s 3ms/step - loss: 0.0390 - acc: 0.9897\n",
      "Epoch 36/40\n",
      "42000/42000 [==============================] - 146s 3ms/step - loss: 0.0428 - acc: 0.9886\n",
      "Epoch 37/40\n",
      "42000/42000 [==============================] - 138s 3ms/step - loss: 0.0470 - acc: 0.9875\n",
      "Epoch 38/40\n",
      "42000/42000 [==============================] - 148s 4ms/step - loss: 0.0432 - acc: 0.9883\n",
      "Epoch 39/40\n",
      "42000/42000 [==============================] - 130s 3ms/step - loss: 0.0458 - acc: 0.9875\n",
      "Epoch 40/40\n",
      "42000/42000 [==============================] - 145s 3ms/step - loss: 0.0455 - acc: 0.9879\n"
     ]
    },
    {
     "data": {
      "text/plain": [
       "<keras.callbacks.History at 0x24173e67860>"
      ]
     },
     "execution_count": 34,
     "metadata": {},
     "output_type": "execute_result"
    }
   ],
   "source": [
    "model.fit(x=X,y=Y,batch_size=batchs,epochs=epochs)"
   ]
  },
  {
   "cell_type": "code",
   "execution_count": 36,
   "metadata": {},
   "outputs": [],
   "source": [
    "test=pd.read_csv(\"...//test.csv\")\n",
    "test=test.values.reshape(-1,28,28,1)\n",
    "results=model.predict(test)"
   ]
  },
  {
   "cell_type": "code",
   "execution_count": 39,
   "metadata": {},
   "outputs": [],
   "source": [
    "results=np.argmax(results,axis=1)"
   ]
  },
  {
   "cell_type": "code",
   "execution_count": 51,
   "metadata": {},
   "outputs": [
    {
     "name": "stdout",
     "output_type": "stream",
     "text": [
      "(28000,)\n"
     ]
    },
    {
     "data": {
      "text/plain": [
       "28000"
      ]
     },
     "execution_count": 51,
     "metadata": {},
     "output_type": "execute_result"
    }
   ],
   "source": [
    "imageid=[i for i in range(1,28001)]\n",
    "print(results.shape)\n",
    "len(imageid)"
   ]
  },
  {
   "cell_type": "code",
   "execution_count": 53,
   "metadata": {},
   "outputs": [],
   "source": [
    "final=pd.DataFrame({'ImageId':imageid,'label':results})\n",
    "final.to_csv('mydigitsol.csv',encoding='utf-8',index=False)"
   ]
  }
 ],
 "metadata": {
  "kernelspec": {
   "display_name": "Python 3",
   "language": "python",
   "name": "python3"
  },
  "language_info": {
   "codemirror_mode": {
    "name": "ipython",
    "version": 3
   },
   "file_extension": ".py",
   "mimetype": "text/x-python",
   "name": "python",
   "nbconvert_exporter": "python",
   "pygments_lexer": "ipython3",
   "version": "3.6.2"
  }
 },
 "nbformat": 4,
 "nbformat_minor": 2
}
